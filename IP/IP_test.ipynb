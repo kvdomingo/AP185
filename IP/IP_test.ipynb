{
 "cells": [
  {
   "cell_type": "code",
   "execution_count": 15,
   "metadata": {
    "ExecuteTime": {
     "end_time": "2019-05-16T12:13:18.191277Z",
     "start_time": "2019-05-16T12:13:18.171359Z"
    }
   },
   "outputs": [],
   "source": [
    "import serial\n",
    "import time"
   ]
  },
  {
   "cell_type": "code",
   "execution_count": 16,
   "metadata": {
    "ExecuteTime": {
     "end_time": "2019-05-16T12:13:44.041287Z",
     "start_time": "2019-05-16T12:13:18.780898Z"
    },
    "scrolled": true
   },
   "outputs": [
    {
     "name": "stdout",
     "output_type": "stream",
     "text": [
      "b''\n",
      "b'p\\xf2n\\xe0\\x10\\x02\\x0c\\x04\\x83\\x0c$\\x0c\\x04\\x0c\\x0c\\x04\\x0c#\\x0co\\xe3|\\x03\\xec$\\x0c\\x84\\x0c\\x0cB\\x8c\\xf2no\\xef\\x02l\\x84\\x8fl \\x02\\x90\\x12\\x1bond\\x84l \\x02\\x0f\\x02N{\\x8f\\x92\\x9bo\\x04\\x0c\\x82cd \\x03`\\xf2n\\x04\\x04\\x0c\\x9f\\xe0c\\x82Nl\\x84\\x0c\\x84\\xf3oN\\xce\\x03\\x04\\x8fr$p\\xfbo\\xe0\\x10\\x02\\x04\\x0cr\\x8c\\x9c\\x9c\\xe2\\xe0\\x04\\x0c\\x04\\x0cc\\x04n\\xe2|\\x03l$\\x0c\\x04\\x0cc\\x84\\xfbon\\xee\\x02$\\x8c\\x04l \\x02\\x90\\x12\\x13oN\\x0c$`\\x03\\x0f\\x02or\\x8e\\x9b\\xb2N\\x0c\\x04\\x1bd\\x93`\\x02p\\xfbo\\xe0\\x10\\x02\\x04\\x0cr\\x8c\\x9c\\xdc\\xe2\\xe0\\x04\\x8e\\x9b\\x04\\x0cc\\x04o\\xe3|\\x03\\x04\\x8c\\x1c\\x90\\x04c\\x84\\xfbon\\xee\\x02\\x04\\x0c$`\\x03\\x90\\x132Nn\\x04l`\\x02\\x0e\\x03or\\x8e\\xb2\\x9f\\xee\\x03\\x04\\x0c\"\\x82\\xdb \\x02\\x0fr\\x92\\xdbN\\x0c\\x04b\\x83\\x92`\\x03\\x8c\\xe3\\x02\\xe4\\x1b\\x82N\\xec\\x92\\x9cp\\x90\\xf2n|\\xe4\\x04$\\x0cd$l \\x02\\x1cc\\x92\\x9c\\xf0\\x03\\x04\\x9f|\\x03r\\x92\\x03l\\x9cn\\xe0\\x04\\x82n\\xe2\\x00\\x04l`\\x02\\x8c\\xe3r\\x92l\\x8c$\\x1b\\x8c\\x04\\x0c\\x0c$`\\x03\\x84\\xe2s\\xb2p\\x82\\xec\\x1c\\xfb\\x02\\x8c\\x1f\\x00\\x04\\x0cl \\x02\\x8c\\xe3r\\x9bl\\x04\\x8f\\xf2\\x03\\x84\\x0c\\x0c$l`\\x02rl\\x8f\\x12\\x90n\\x03\\x84\\xdf\\xe2\\x84b\\x04\\x8c\\x84\"\\x1c|\\x0c$b\\x9c\\xe3\\xdc\\x03c|\\x90\\x8c\\x1c\\x84\\x84\\x0cd$b\\xe4\\xf2n\\xef\\x80\\x12no\\xe3\\x10\\x03\\x00\\x02\\x8cdN\\xbe\\x00\\x0c\\xe4\\x0c\\x8c\\x04l\\xec\\x8fll\\x84\\x0c\\x8e\\x80\\x84\\x0c\\x0c$`\\x03\\x80\\x02n\\xfc\\x00\\x84\\xbe\\x13\"b\\x0cd$\\xec\\x84\\x8f\\xfe2\\x04b\\x0c\\x02\\x03\\x8c\\x9e\\xc2c#\\x04l\\x0c\\x84b\\x1c{lrdr\\xf3o\\x9c\\xe3\\x00\\x8c\\x04\\xe4\\x83\\x12\\x02bp\\x0fb\\x0c\\x9c\\x9c\\x1f\\x0fB\\x84\\x8c\\x1c\\x04bl\\x0c\\x84l\\xec$b\\xecB\\xec|\\x7f\\xe2\\x83\\x1b\\x02\\x13cp2b\\x0c\\x9c\\x9c\\x1f\\x0f\"\\x84\\x8c\\x1c\\x04bl\\x0c\\x84l\\xec\\xfeOSError: [Errno 2] ENOENT\\r\\n'\n",
      "b'\\r\\n'\n",
      "b'MicroPython v1.10-8-g8b7039d7d on 2019-01-26; ESP module with ESP8266\\r\\n'\n",
      "b'Type \"help()\" for more information.\\r\\n'\n",
      "b'>>> '\n",
      "b''\n",
      "b''\n",
      "b''\n",
      "b''\n",
      "b''\n",
      "b''\n",
      "b''\n",
      "b''\n",
      "b''\n",
      "b''\n",
      "b''\n",
      "b''\n",
      "b''\n",
      "b''\n",
      "b''\n",
      "b''\n",
      "b''\n",
      "b''\n",
      "b''\n"
     ]
    },
    {
     "ename": "AttributeError",
     "evalue": "'Serial' object has no attribute 'SerialTimeoutException'",
     "output_type": "error",
     "traceback": [
      "\u001b[1;31m---------------------------------------------------------------------------\u001b[0m",
      "\u001b[1;31mKeyboardInterrupt\u001b[0m                         Traceback (most recent call last)",
      "\u001b[1;32m<ipython-input-16-4564a49b9eae>\u001b[0m in \u001b[0;36m<module>\u001b[1;34m\u001b[0m\n\u001b[0;32m      5\u001b[0m         \u001b[0mprint\u001b[0m\u001b[1;33m(\u001b[0m\u001b[0mser\u001b[0m\u001b[1;33m.\u001b[0m\u001b[0mreadline\u001b[0m\u001b[1;33m(\u001b[0m\u001b[1;33m)\u001b[0m\u001b[1;33m)\u001b[0m\u001b[1;33m\u001b[0m\u001b[1;33m\u001b[0m\u001b[0m\n\u001b[1;32m----> 6\u001b[1;33m         \u001b[0mtime\u001b[0m\u001b[1;33m.\u001b[0m\u001b[0msleep\u001b[0m\u001b[1;33m(\u001b[0m\u001b[1;36m1\u001b[0m\u001b[1;33m)\u001b[0m\u001b[1;33m\u001b[0m\u001b[1;33m\u001b[0m\u001b[0m\n\u001b[0m\u001b[0;32m      7\u001b[0m     \u001b[1;32mexcept\u001b[0m \u001b[0mser\u001b[0m\u001b[1;33m.\u001b[0m\u001b[0mSerialTimeoutException\u001b[0m\u001b[1;33m:\u001b[0m\u001b[1;33m\u001b[0m\u001b[1;33m\u001b[0m\u001b[0m\n",
      "\u001b[1;31mKeyboardInterrupt\u001b[0m: ",
      "\nDuring handling of the above exception, another exception occurred:\n",
      "\u001b[1;31mAttributeError\u001b[0m                            Traceback (most recent call last)",
      "\u001b[1;32m<ipython-input-16-4564a49b9eae>\u001b[0m in \u001b[0;36m<module>\u001b[1;34m\u001b[0m\n\u001b[0;32m      5\u001b[0m         \u001b[0mprint\u001b[0m\u001b[1;33m(\u001b[0m\u001b[0mser\u001b[0m\u001b[1;33m.\u001b[0m\u001b[0mreadline\u001b[0m\u001b[1;33m(\u001b[0m\u001b[1;33m)\u001b[0m\u001b[1;33m)\u001b[0m\u001b[1;33m\u001b[0m\u001b[1;33m\u001b[0m\u001b[0m\n\u001b[0;32m      6\u001b[0m         \u001b[0mtime\u001b[0m\u001b[1;33m.\u001b[0m\u001b[0msleep\u001b[0m\u001b[1;33m(\u001b[0m\u001b[1;36m1\u001b[0m\u001b[1;33m)\u001b[0m\u001b[1;33m\u001b[0m\u001b[1;33m\u001b[0m\u001b[0m\n\u001b[1;32m----> 7\u001b[1;33m     \u001b[1;32mexcept\u001b[0m \u001b[0mser\u001b[0m\u001b[1;33m.\u001b[0m\u001b[0mSerialTimeoutException\u001b[0m\u001b[1;33m:\u001b[0m\u001b[1;33m\u001b[0m\u001b[1;33m\u001b[0m\u001b[0m\n\u001b[0m\u001b[0;32m      8\u001b[0m         \u001b[0mprint\u001b[0m\u001b[1;33m(\u001b[0m\u001b[1;34m'Data could not be read'\u001b[0m\u001b[1;33m)\u001b[0m\u001b[1;33m\u001b[0m\u001b[1;33m\u001b[0m\u001b[0m\n\u001b[0;32m      9\u001b[0m         \u001b[0mtime\u001b[0m\u001b[1;33m.\u001b[0m\u001b[0msleep\u001b[0m\u001b[1;33m(\u001b[0m\u001b[1;36m1\u001b[0m\u001b[1;33m)\u001b[0m\u001b[1;33m\u001b[0m\u001b[1;33m\u001b[0m\u001b[0m\n",
      "\u001b[1;31mAttributeError\u001b[0m: 'Serial' object has no attribute 'SerialTimeoutException'"
     ]
    }
   ],
   "source": [
    "ser = serial.Serial('COM4', 115200, timeout=0)\n",
    " \n",
    "while 1:\n",
    "    try:\n",
    "        print(ser.readline())\n",
    "        time.sleep(1)\n",
    "    except ser.SerialTimeoutException:\n",
    "        print('Data could not be read')\n",
    "        time.sleep(1)"
   ]
  },
  {
   "cell_type": "code",
   "execution_count": null,
   "metadata": {},
   "outputs": [],
   "source": []
  }
 ],
 "metadata": {
  "kernelspec": {
   "display_name": "Python 3",
   "language": "python",
   "name": "python3"
  },
  "language_info": {
   "codemirror_mode": {
    "name": "ipython",
    "version": 3
   },
   "file_extension": ".py",
   "mimetype": "text/x-python",
   "name": "python",
   "nbconvert_exporter": "python",
   "pygments_lexer": "ipython3",
   "version": "3.6.8"
  },
  "latex_envs": {
   "LaTeX_envs_menu_present": true,
   "autoclose": true,
   "autocomplete": false,
   "bibliofile": "biblio.bib",
   "cite_by": "apalike",
   "current_citInitial": 1,
   "eqLabelWithNumbers": true,
   "eqNumInitial": 1,
   "hotkeys": {
    "equation": "Ctrl-E",
    "itemize": "Ctrl-I"
   },
   "labels_anchors": false,
   "latex_user_defs": false,
   "report_style_numbering": false,
   "user_envs_cfg": false
  },
  "varInspector": {
   "cols": {
    "lenName": 16,
    "lenType": 16,
    "lenVar": 40
   },
   "kernels_config": {
    "python": {
     "delete_cmd_postfix": "",
     "delete_cmd_prefix": "del ",
     "library": "var_list.py",
     "varRefreshCmd": "print(var_dic_list())"
    },
    "r": {
     "delete_cmd_postfix": ") ",
     "delete_cmd_prefix": "rm(",
     "library": "var_list.r",
     "varRefreshCmd": "cat(var_dic_list()) "
    }
   },
   "types_to_exclude": [
    "module",
    "function",
    "builtin_function_or_method",
    "instance",
    "_Feature"
   ],
   "window_display": false
  }
 },
 "nbformat": 4,
 "nbformat_minor": 2
}
